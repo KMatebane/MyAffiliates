{
 "cells": [
  {
   "cell_type": "markdown",
   "id": "d4a09091",
   "metadata": {},
   "source": [
    "<h1 align=\"center\"><b>My Affliates Sales File</b></h1>"
   ]
  },
  {
   "cell_type": "markdown",
   "id": "e72a1748",
   "metadata": {},
   "source": [
    "<h5>\n",
    "    <b> Packages </b>\n",
    "</h5> "
   ]
  },
  {
   "cell_type": "code",
   "execution_count": 34,
   "id": "59c0feae",
   "metadata": {},
   "outputs": [],
   "source": [
    "# Package used to connect to MySQL Databases\n",
    "import mysql.connector\n",
    "import pymysql\n",
    "\n",
    "#Connect To SFTP\n",
    "import pysftp\n",
    "\n",
    "# XML Creation\n",
    "import xml.etree.ElementTree as ET\n",
    "import os\n",
    "\n",
    "# Data Manipulation Packages\n",
    "import pandas as pd\n",
    "import numpy as np\n",
    "from sklearn.model_selection import train_test_split\n",
    "\n",
    "# Package To Ignore Warnings\n",
    "import warnings\n",
    "warnings.filterwarnings(\"ignore\")"
   ]
  },
  {
   "cell_type": "code",
   "execution_count": 35,
   "id": "9fed3669",
   "metadata": {},
   "outputs": [],
   "source": [
    "Root = os.path.normpath(os.getcwd() + os.sep + os.pardir)\n",
    "Name = 'MyAffliates_SalesFile'\n",
    "\n",
    "file = open(Root + '/Connect/Connect.txt', 'r')\n",
    "text = file.readlines()"
   ]
  },
  {
   "cell_type": "markdown",
   "id": "25552f26",
   "metadata": {},
   "source": [
    "<h5>\n",
    "    <b> Import Data From MySQL</b>\n",
    "</h5> "
   ]
  },
  {
   "cell_type": "code",
   "execution_count": 36,
   "id": "89035d8c",
   "metadata": {},
   "outputs": [],
   "source": [
    "# Code To Connect MySQL\n",
    "cobi_betika = mysql.connector.connect(host=text[0].strip()\n",
    "                                      ,database=text[7].strip()\n",
    "                                      ,user=text[5].strip()\n",
    "                                      ,password=text[6].strip()\n",
    "                                      ,port=text[4].strip())\n",
    "\n",
    "# Connect to MySQL database\n",
    "try:\n",
    "    with cobi_betika.cursor() as cursor:\n",
    "        df = pd.read_sql(\"SELECT x.TRANSACTION_DATE\\\n",
    "                                ,x.BTAG\\\n",
    "                                ,x.PLAYER_ID\\\n",
    "                                ,x.PLAYER_CURRENCY\\\n",
    "                                ,x.ROLLBACKS\\\n",
    "                                ,x.DEPOSITS\\\n",
    "                                ,x.SPORTSBOOK_BETS\t\\\n",
    "                                ,x.SPORTSBOOK_STAKE\t\\\n",
    "                                ,x.SPORTSBOOK_GROSS_REVENUE\t\\\n",
    "                                ,x.SPORTSBOOK_BONUS\t\\\n",
    "                                ,(x.SPORTSBOOK_GROSS_REVENUE - x.SPORTSBOOK_BONUS) AS SPORTSBOOK_NET_REVENUE\t\\\n",
    "                                ,x.CRASH_BETS\t\\\n",
    "                                ,x.CRASH_STAKE\t\\\n",
    "                                ,x.CRASH_GROSS_REVENUE\t\\\n",
    "                                ,x.CRASH_BONUS\t\\\n",
    "                                ,(x.CRASH_GROSS_REVENUE - x.CRASH_BONUS) AS CRASH_NET_REVENUE\t\\\n",
    "                                ,x.CASINO_BETS\t\\\n",
    "                                ,x.CASINO_STAKE\t\\\n",
    "                                ,x.CASINO_GROSS_REVENUE\t\\\n",
    "                                ,x.CASINO_BONUS\t\\\n",
    "                                ,(x.CASINO_GROSS_REVENUE - x.CASINO_BONUS) AS CASINO_NET_REVENUE\t\\\n",
    "                                ,x.VIRTUALS_BETS\t\\\n",
    "                                ,x.VIRTUALS_STAKES\t\\\n",
    "                                ,x.VIRTUALS_GROSS_REVENUE\t\\\n",
    "                                ,x.VIRTUALS_BONUS\\\n",
    "                                ,(x.VIRTUALS_GROSS_REVENUE - x.VIRTUALS_BONUS) AS VIRTUALS_NET_REVENUE\\\n",
    "\\\n",
    "                            FROM (SELECT a.summary_date                     AS TRANSACTION_DATE\\\n",
    "                                        ,c.affiliate_tag                    AS BTAG\\\n",
    "                                        ,a.profile_id                       AS PLAYER_ID\t\\\n",
    "                                        ,'GHS'                              AS PLAYER_CURRENCY\\\n",
    "                                        ,0 AS ROLLBACKS\\\n",
    "                                        ,CASE WHEN e.first_deposit IS NULL \\\n",
    "                                            THEN 0 ELSE 1 \\\n",
    "                                            END AS DEPOSITS\\\n",
    "                                        ,a.qty_sp_cash                      AS SPORTSBOOK_BETS\t\\\n",
    "                                        ,a.to_sp_cash                       AS SPORTSBOOK_STAKE\t\\\n",
    "                                        ,(a.GGR_sp - (a.GGR_sp * 0.25))     AS SPORTSBOOK_GROSS_REVENUE\t\\\n",
    "                                        ,d.sp_cash_bonus_amt                AS SPORTSBOOK_BONUS\t\\\n",
    "                                        ,a.NGR_sp                           AS SPORTSBOOK_NET_REVENUE\t\\\n",
    "                                        ,a.qty_cr                           AS CRASH_BETS\t\\\n",
    "                                        ,a.to_cr                            AS CRASH_STAKE\t\\\n",
    "                                        ,(a.GGR_cr - (a.GGR_cr * 0.25))     AS CRASH_GROSS_REVENUE\t\\\n",
    "                                        ,d.cr_cash_bonus_amt                AS CRASH_BONUS\t\\\n",
    "                                        ,a.NGR_cr                           AS CRASH_NET_REVENUE\t\\\n",
    "                                        ,a.qty_ca                           AS CASINO_BETS\t\\\n",
    "                                        ,a.to_ca                            AS CASINO_STAKE\t\\\n",
    "                                        ,(a.GGR_ca - (a.GGR_ca * 0.25))     AS CASINO_GROSS_REVENUE\t\\\n",
    "                                        ,d.ca_cash_bonus_amt                AS CASINO_BONUS\t\\\n",
    "                                        ,a.NGR_ca                           AS CASINO_NET_REVENUE\t\\\n",
    "                                        ,a.qty_v                            AS VIRTUALS_BETS\t\\\n",
    "                                        ,a.to_v                             AS VIRTUALS_STAKES\t\\\n",
    "                                        ,(a.GGR_v - (a.GGR_v * 0.25))       AS VIRTUALS_GROSS_REVENUE\t\\\n",
    "                                        ,d.vi_cash_bonus_amt                AS VIRTUALS_BONUS\\\n",
    "                                        ,a.NGR_v                            AS VIRTUALS_NET_REVENUE\\\n",
    "\\\n",
    "                                FROM betika_bi_gh.f_kpi_gh AS a\\\n",
    "\\\n",
    "                                LEFT JOIN betika_bi_gh.profile AS b\\\n",
    "                                ON a.profile_id = b.profile_id\\\n",
    "\\\n",
    "                                LEFT JOIN betika_bi_gh.affiliate_tx AS c\\\n",
    "                                ON a.profile_id = c.profile_id\\\n",
    "\\\n",
    "                                LEFT JOIN betika_bi_gh.f_bonus_credited AS d\\\n",
    "                                ON a.profile_id = d.profile_id\\\n",
    "\\\n",
    "                                LEFT JOIN betika_bi_gh.dim_first_last_gh AS e\\\n",
    "                                ON a.profile_id = e.profile_id\\\n",
    "\\\n",
    "                                WHERE DATE(a.summary_date) >= DATE(CURDATE()- INTERVAL 1 DAY)\\\n",
    "                                AND DATE(d.summary_date) >= DATE(CURDATE()- INTERVAL 1 DAY)\\\n",
    "\\\n",
    "                                GROUP BY 1,2,3,4,5,6,7,8,9,10,11,12,13,14,15,16,17,18,19,20,21,22,23,24,25,26\\\n",
    "\\\n",
    "                                ORDER BY a.profile_id\\\n",
    "                                        ,a.summary_date\\\n",
    "                                \\\n",
    "                                ) AS x;\"\n",
    "                         ,cobi_betika)\n",
    "        \n",
    "finally:\n",
    "    cobi_betika.close()"
   ]
  },
  {
   "cell_type": "code",
   "execution_count": 37,
   "id": "9a89f8f2",
   "metadata": {},
   "outputs": [],
   "source": [
    "Month = df['TRANSACTION_DATE'][0].strftime('%m') + '_' + df['TRANSACTION_DATE'][0].strftime('%B') + '/'\n",
    "Year  = df['TRANSACTION_DATE'][0].strftime('%Y') + '/'\n",
    "Day   = df['TRANSACTION_DATE'][0].strftime('%Y_%m_%d')\n",
    "\n",
    "export_path = Root + '/Reports/SalesFiles/' + Year + Month\n",
    "file_name   = Name +'_'+ Day + '.xlsx'\n",
    "file_path   = export_path + file_name"
   ]
  },
  {
   "cell_type": "code",
   "execution_count": 38,
   "id": "9ca18564",
   "metadata": {},
   "outputs": [],
   "source": [
    "if not os.path.exists(export_path):\n",
    "        os.makedirs(export_path)"
   ]
  },
  {
   "cell_type": "code",
   "execution_count": 39,
   "id": "dc742f9c",
   "metadata": {},
   "outputs": [],
   "source": [
    "df.to_excel(file_path,index=False,sheet_name='Sales_File_'+Day)"
   ]
  },
  {
   "cell_type": "code",
   "execution_count": 40,
   "id": "6b2499c0",
   "metadata": {},
   "outputs": [],
   "source": [
    "import pysftp"
   ]
  },
  {
   "cell_type": "code",
   "execution_count": 41,
   "id": "6f318aab",
   "metadata": {},
   "outputs": [],
   "source": [
    "def FTP_conn_Opti():\n",
    "    cnopts = pysftp.CnOpts()\n",
    "    cnopts.hostkeys = None\n",
    "    server = pysftp.Connection('GVCModels.eu.vault.optimove.net', username='GVCModels', password='?', cnopts=cnopts)\n",
    "    return server"
   ]
  },
  {
   "cell_type": "code",
   "execution_count": 42,
   "id": "deb08ae9",
   "metadata": {},
   "outputs": [],
   "source": [
    "def upload(filename):\n",
    "    print('uploading to FTP now')\n",
    "    server = connector.FTP_conn_Opti()\n",
    "    server.cwd(\"casino\")  ## location on the server???\n",
    "    server.cwd(\"bi-recommendations\")\n",
    "    server.put(filename)\n",
    "    print(filename+' uploaded to SFTP')\n",
    "    server.close()"
   ]
  },
  {
   "cell_type": "code",
   "execution_count": 43,
   "id": "78c47b4b",
   "metadata": {},
   "outputs": [],
   "source": [
    "#upload(file_path)"
   ]
  }
 ],
 "metadata": {
  "kernelspec": {
   "display_name": "Python 3 (ipykernel)",
   "language": "python",
   "name": "python3"
  },
  "language_info": {
   "codemirror_mode": {
    "name": "ipython",
    "version": 3
   },
   "file_extension": ".py",
   "mimetype": "text/x-python",
   "name": "python",
   "nbconvert_exporter": "python",
   "pygments_lexer": "ipython3",
   "version": "3.11.7"
  }
 },
 "nbformat": 4,
 "nbformat_minor": 5
}
